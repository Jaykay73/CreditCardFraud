{
 "cells": [
  {
   "cell_type": "markdown",
   "id": "00be0f64-f94e-4380-af27-fc35d4e8d817",
   "metadata": {},
   "source": [
    "# 03 – Modeling\n",
    "\n",
    "Train various anomaly detection models and compare their performance."
   ]
  },
  {
   "cell_type": "markdown",
   "id": "995a2835-5101-4f4d-805f-41f66334a30a",
   "metadata": {},
   "source": [
    "## 3.1 – Imports and Constants"
   ]
  },
  {
   "cell_type": "code",
   "execution_count": 10,
   "id": "f6a90b31-c365-4c88-b3a1-8fc7b2416257",
   "metadata": {},
   "outputs": [],
   "source": [
    "import numpy as np\n",
    "import pandas as pd\n",
    "\n",
    "from sklearn.ensemble import IsolationForest\n",
    "from sklearn.svm import OneClassSVM\n",
    "from sklearn.metrics import classification_report, confusion_matrix, roc_auc_score, precision_recall_curve\n",
    "\n",
    "import joblib\n",
    "\n",
    "# For the autoencoder\n",
    "import tensorflow as tf\n",
    "from tensorflow.keras import layers, models\n",
    "\n",
    "# For reproducibility\n",
    "RANDOM_SEED = 31\n",
    "MODEL_DIR = 'sample/models/'\n",
    "DATA_PATH = 'sample/processed_pca.pkl'"
   ]
  },
  {
   "cell_type": "markdown",
   "id": "3f635966-f83b-4656-a81d-8177f2f77655",
   "metadata": {},
   "source": [
    "## 3.2 – Load Preprocessed Data"
   ]
  },
  {
   "cell_type": "code",
   "execution_count": 13,
   "id": "29613f56-36aa-4b47-8f1a-55e050ef701b",
   "metadata": {},
   "outputs": [
    {
     "name": "stdout",
     "output_type": "stream",
     "text": [
      "X_train shape: (2793, 16)\n",
      "y_train distribution:\n",
      "Class\n",
      "0    2399\n",
      "1     394\n",
      "Name: count, dtype: int64\n",
      "\n"
     ]
    }
   ],
   "source": [
    "# This should load a tuple: (X_train, X_test, y_train, y_test)\n",
    "X_train, X_test, y_train, y_test = joblib.load(DATA_PATH)\n",
    "\n",
    "print(f\"X_train shape: {X_train.shape}\")\n",
    "print(f\"y_train distribution:\\n{pd.Series(y_train).value_counts()}\\n\")"
   ]
  },
  {
   "cell_type": "markdown",
   "id": "4ae15b19-0f29-4c26-b161-29011230244c",
   "metadata": {},
   "source": [
    "## 3.3 – Preparation: Filter “Normal” Transactions"
   ]
  },
  {
   "cell_type": "code",
   "execution_count": 15,
   "id": "ed9baf76-04f4-4989-b4fe-aec87b2c01fd",
   "metadata": {},
   "outputs": [
    {
     "name": "stdout",
     "output_type": "stream",
     "text": [
      "Number of “normal” samples for training: 2399\n"
     ]
    }
   ],
   "source": [
    "# Both IsolationForest and OneClassSVM are unsupervised, so we train them only on “normal” (non-fraud) samples.\n",
    "# In this dataset, class = 0 indicates normal transactions; class = 1 indicates fraud.\n",
    "\n",
    "mask_normal = (y_train == 0)\n",
    "X_train_normal = X_train[mask_normal]\n",
    "\n",
    "print(f\"Number of “normal” samples for training: {X_train_normal.shape[0]}\")"
   ]
  },
  {
   "cell_type": "markdown",
   "id": "d0a38fcc-e663-4f85-928a-1434b53b0807",
   "metadata": {},
   "source": [
    "## 3.4 – Isolation Forest"
   ]
  },
  {
   "cell_type": "code",
   "execution_count": 35,
   "id": "c8d2e035-1320-4ff8-885d-37b19eaec12e",
   "metadata": {},
   "outputs": [
    {
     "data": {
      "text/plain": [
       "0.16423509795748228"
      ]
     },
     "execution_count": 35,
     "metadata": {},
     "output_type": "execute_result"
    }
   ],
   "source": [
    "394/2399"
   ]
  },
  {
   "cell_type": "code",
   "execution_count": 37,
   "id": "906aef37-fc2a-4145-9bb5-9014f882435b",
   "metadata": {},
   "outputs": [
    {
     "name": "stdout",
     "output_type": "stream",
     "text": [
      "Isolation Forest trained and saved.\n"
     ]
    }
   ],
   "source": [
    "# Initialize Isolation Forest\n",
    "iso_forest = IsolationForest(\n",
    "    n_estimators=100,\n",
    "    max_samples='auto',\n",
    "    contamination=0.16424,  # Approximate fraud rate\n",
    "    random_state=RANDOM_SEED,\n",
    "    n_jobs=-1\n",
    ")\n",
    "\n",
    "# Fit on X_train_normal only\n",
    "iso_forest.fit(X_train_normal)\n",
    "\n",
    "# Save the trained model to disk\n",
    "joblib.dump(iso_forest, MODEL_DIR + 'isolation_forest.pkl')\n",
    "\n",
    "print(\"Isolation Forest trained and saved.\")"
   ]
  },
  {
   "cell_type": "markdown",
   "id": "6da09473-f25c-4058-b987-bd7ce1d55733",
   "metadata": {},
   "source": [
    "## 3.5 – One-Class SVM"
   ]
  },
  {
   "cell_type": "code",
   "execution_count": 41,
   "id": "276c1e99-8eb8-4a25-a857-6b18bbff20ce",
   "metadata": {},
   "outputs": [
    {
     "name": "stdout",
     "output_type": "stream",
     "text": [
      "One-Class SVM trained and saved.\n"
     ]
    }
   ],
   "source": [
    "# Initialize One-Class SVM\n",
    "ocsvm = OneClassSVM(\n",
    "    kernel='rbf',\n",
    "    gamma='auto',\n",
    "    nu=0.16424  # Approximate fraud rate\n",
    ")\n",
    "\n",
    "# Fit on X_train_normal only\n",
    "ocsvm.fit(X_train_normal)\n",
    "\n",
    "# Save the trained model to disk\n",
    "joblib.dump(ocsvm, MODEL_DIR + 'ocsvm.pkl')\n",
    "\n",
    "print(\"One-Class SVM trained and saved.\")"
   ]
  },
  {
   "cell_type": "markdown",
   "id": "6d595057-edb6-4a47-806a-1f6a929e5d20",
   "metadata": {},
   "source": [
    "## 3.6 – Autoencoder "
   ]
  },
  {
   "cell_type": "code",
   "execution_count": 26,
   "id": "ceccbdb8-2375-4759-9dd3-e9225c8e13b4",
   "metadata": {},
   "outputs": [
    {
     "name": "stdout",
     "output_type": "stream",
     "text": [
      "Epoch 1/20\n",
      "\u001b[1m9/9\u001b[0m \u001b[32m━━━━━━━━━━━━━━━━━━━━\u001b[0m\u001b[37m\u001b[0m \u001b[1m2s\u001b[0m 36ms/step - loss: 2.0465 - val_loss: 1.7480\n",
      "Epoch 2/20\n",
      "\u001b[1m9/9\u001b[0m \u001b[32m━━━━━━━━━━━━━━━━━━━━\u001b[0m\u001b[37m\u001b[0m \u001b[1m0s\u001b[0m 24ms/step - loss: 1.9855 - val_loss: 1.7211\n",
      "Epoch 3/20\n",
      "\u001b[1m9/9\u001b[0m \u001b[32m━━━━━━━━━━━━━━━━━━━━\u001b[0m\u001b[37m\u001b[0m \u001b[1m0s\u001b[0m 25ms/step - loss: 2.0232 - val_loss: 1.6946\n",
      "Epoch 4/20\n",
      "\u001b[1m9/9\u001b[0m \u001b[32m━━━━━━━━━━━━━━━━━━━━\u001b[0m\u001b[37m\u001b[0m \u001b[1m0s\u001b[0m 18ms/step - loss: 1.8808 - val_loss: 1.6685\n",
      "Epoch 5/20\n",
      "\u001b[1m9/9\u001b[0m \u001b[32m━━━━━━━━━━━━━━━━━━━━\u001b[0m\u001b[37m\u001b[0m \u001b[1m0s\u001b[0m 19ms/step - loss: 1.9702 - val_loss: 1.6426\n",
      "Epoch 6/20\n",
      "\u001b[1m9/9\u001b[0m \u001b[32m━━━━━━━━━━━━━━━━━━━━\u001b[0m\u001b[37m\u001b[0m \u001b[1m0s\u001b[0m 18ms/step - loss: 1.8370 - val_loss: 1.6170\n",
      "Epoch 7/20\n",
      "\u001b[1m9/9\u001b[0m \u001b[32m━━━━━━━━━━━━━━━━━━━━\u001b[0m\u001b[37m\u001b[0m \u001b[1m0s\u001b[0m 20ms/step - loss: 1.9149 - val_loss: 1.5916\n",
      "Epoch 8/20\n",
      "\u001b[1m9/9\u001b[0m \u001b[32m━━━━━━━━━━━━━━━━━━━━\u001b[0m\u001b[37m\u001b[0m \u001b[1m0s\u001b[0m 21ms/step - loss: 1.7506 - val_loss: 1.5660\n",
      "Epoch 9/20\n",
      "\u001b[1m9/9\u001b[0m \u001b[32m━━━━━━━━━━━━━━━━━━━━\u001b[0m\u001b[37m\u001b[0m \u001b[1m0s\u001b[0m 23ms/step - loss: 1.8371 - val_loss: 1.5404\n",
      "Epoch 10/20\n",
      "\u001b[1m9/9\u001b[0m \u001b[32m━━━━━━━━━━━━━━━━━━━━\u001b[0m\u001b[37m\u001b[0m \u001b[1m0s\u001b[0m 23ms/step - loss: 1.7772 - val_loss: 1.5151\n",
      "Epoch 11/20\n",
      "\u001b[1m9/9\u001b[0m \u001b[32m━━━━━━━━━━━━━━━━━━━━\u001b[0m\u001b[37m\u001b[0m \u001b[1m0s\u001b[0m 24ms/step - loss: 1.7706 - val_loss: 1.4903\n",
      "Epoch 12/20\n",
      "\u001b[1m9/9\u001b[0m \u001b[32m━━━━━━━━━━━━━━━━━━━━\u001b[0m\u001b[37m\u001b[0m \u001b[1m0s\u001b[0m 25ms/step - loss: 1.7199 - val_loss: 1.4657\n",
      "Epoch 13/20\n",
      "\u001b[1m9/9\u001b[0m \u001b[32m━━━━━━━━━━━━━━━━━━━━\u001b[0m\u001b[37m\u001b[0m \u001b[1m0s\u001b[0m 24ms/step - loss: 1.7242 - val_loss: 1.4419\n",
      "Epoch 14/20\n",
      "\u001b[1m9/9\u001b[0m \u001b[32m━━━━━━━━━━━━━━━━━━━━\u001b[0m\u001b[37m\u001b[0m \u001b[1m0s\u001b[0m 25ms/step - loss: 1.6753 - val_loss: 1.4188\n",
      "Epoch 15/20\n",
      "\u001b[1m9/9\u001b[0m \u001b[32m━━━━━━━━━━━━━━━━━━━━\u001b[0m\u001b[37m\u001b[0m \u001b[1m0s\u001b[0m 23ms/step - loss: 1.5829 - val_loss: 1.3965\n",
      "Epoch 16/20\n",
      "\u001b[1m9/9\u001b[0m \u001b[32m━━━━━━━━━━━━━━━━━━━━\u001b[0m\u001b[37m\u001b[0m \u001b[1m0s\u001b[0m 21ms/step - loss: 1.7632 - val_loss: 1.3750\n",
      "Epoch 17/20\n",
      "\u001b[1m9/9\u001b[0m \u001b[32m━━━━━━━━━━━━━━━━━━━━\u001b[0m\u001b[37m\u001b[0m \u001b[1m0s\u001b[0m 24ms/step - loss: 1.5474 - val_loss: 1.3544\n",
      "Epoch 18/20\n",
      "\u001b[1m9/9\u001b[0m \u001b[32m━━━━━━━━━━━━━━━━━━━━\u001b[0m\u001b[37m\u001b[0m \u001b[1m0s\u001b[0m 25ms/step - loss: 1.6232 - val_loss: 1.3350\n",
      "Epoch 19/20\n",
      "\u001b[1m9/9\u001b[0m \u001b[32m━━━━━━━━━━━━━━━━━━━━\u001b[0m\u001b[37m\u001b[0m \u001b[1m0s\u001b[0m 22ms/step - loss: 1.5876 - val_loss: 1.3167\n",
      "Epoch 20/20\n",
      "\u001b[1m9/9\u001b[0m \u001b[32m━━━━━━━━━━━━━━━━━━━━\u001b[0m\u001b[37m\u001b[0m \u001b[1m0s\u001b[0m 26ms/step - loss: 1.5427 - val_loss: 1.2997\n"
     ]
    },
    {
     "name": "stderr",
     "output_type": "stream",
     "text": [
      "WARNING:absl:You are saving your model as an HDF5 file via `model.save()` or `keras.saving.save_model(model)`. This file format is considered legacy. We recommend using instead the native Keras format, e.g. `model.save('my_model.keras')` or `keras.saving.save_model(model, 'my_model.keras')`. \n"
     ]
    },
    {
     "name": "stdout",
     "output_type": "stream",
     "text": [
      "Autoencoder trained and saved.\n"
     ]
    }
   ],
   "source": [
    "# Define a simple autoencoder architecture\n",
    "input_dim = X_train_normal.shape[1]\n",
    "encoding_dim = 16  # Tune as needed\n",
    "\n",
    "input_layer = layers.Input(shape=(input_dim,))\n",
    "encoded     = layers.Dense(encoding_dim, activation='relu')(input_layer)\n",
    "decoded     = layers.Dense(input_dim, activation='sigmoid')(encoded)\n",
    "\n",
    "autoencoder = models.Model(inputs=input_layer, outputs=decoded)\n",
    "autoencoder.compile(optimizer='adam', loss='mse')\n",
    "\n",
    "# Train autoencoder on normal transactions only\n",
    "history = autoencoder.fit(\n",
    "    X_train_normal, X_train_normal,\n",
    "    epochs=20,            # Adjust based on convergence\n",
    "    batch_size=256,       # Adjust to fit your memory\n",
    "    validation_split=0.1, # 10% for validation\n",
    "    shuffle=True\n",
    ")\n",
    "\n",
    "# Save the entire model (architecture + weights)\n",
    "autoencoder.save(MODEL_DIR + 'autoencoder.h5')\n",
    "\n",
    "print(\"Autoencoder trained and saved.\")"
   ]
  },
  {
   "cell_type": "markdown",
   "id": "68bf7677-e60e-4e5c-a71d-a44151188a6f",
   "metadata": {},
   "source": [
    "## 3.8 – Evaluation Pipeline"
   ]
  },
  {
   "cell_type": "markdown",
   "id": "e5efa653-5c45-44e8-b262-c6c9b2ba363a",
   "metadata": {},
   "source": [
    "### 3.8.a – Evaluate Isolation Forest on Test Set"
   ]
  },
  {
   "cell_type": "code",
   "execution_count": 39,
   "id": "c92ba7eb-f45e-4451-842b-448e95f5ebd4",
   "metadata": {},
   "outputs": [
    {
     "name": "stdout",
     "output_type": "stream",
     "text": [
      "Isolation Forest Classification Report:\n",
      "              precision    recall  f1-score   support\n",
      "\n",
      "           0       0.98      0.84      0.90       601\n",
      "           1       0.48      0.89      0.62        98\n",
      "\n",
      "    accuracy                           0.85       699\n",
      "   macro avg       0.73      0.86      0.76       699\n",
      "weighted avg       0.91      0.85      0.86       699\n",
      "\n",
      "ROC-AUC: 0.08643757003633398\n"
     ]
    }
   ],
   "source": [
    "y_pred_iso = iso_forest.predict(X_test)\n",
    "# Convert to binary {0: normal, 1: fraud}\n",
    "y_pred_iso_binary = np.where(y_pred_iso == -1, 1, 0)\n",
    "\n",
    "print(\"Isolation Forest Classification Report:\")\n",
    "print(classification_report(y_test, y_pred_iso_binary))\n",
    "print(\"ROC-AUC:\", roc_auc_score(y_test, iso_forest.decision_function(X_test)))\n"
   ]
  },
  {
   "cell_type": "markdown",
   "id": "61153cce-0c9a-45d5-970d-9ee72c15704b",
   "metadata": {},
   "source": [
    "### 3.8.b – Evaluate One-Class SVM on Test Set"
   ]
  },
  {
   "cell_type": "code",
   "execution_count": 43,
   "id": "d047d505-b0bb-437c-862f-1b13844f528a",
   "metadata": {},
   "outputs": [
    {
     "name": "stdout",
     "output_type": "stream",
     "text": [
      "\n",
      "One-Class SVM Classification Report:\n",
      "              precision    recall  f1-score   support\n",
      "\n",
      "           0       0.98      0.84      0.91       601\n",
      "           1       0.48      0.92      0.63        98\n",
      "\n",
      "    accuracy                           0.85       699\n",
      "   macro avg       0.73      0.88      0.77       699\n",
      "weighted avg       0.91      0.85      0.87       699\n",
      "\n"
     ]
    }
   ],
   "source": [
    "\n",
    "y_pred_svm = ocsvm.predict(X_test)\n",
    "y_pred_svm_binary = np.where(y_pred_svm == -1, 1, 0)\n",
    "\n",
    "print(\"\\nOne-Class SVM Classification Report:\")\n",
    "print(classification_report(y_test, y_pred_svm_binary))"
   ]
  },
  {
   "cell_type": "markdown",
   "id": "5f9efde4-a6ab-4aab-8ae9-b13408f99263",
   "metadata": {},
   "source": [
    "# 3.8.d – Evaluate Autoencoder on Test Set"
   ]
  },
  {
   "cell_type": "code",
   "execution_count": 54,
   "id": "9c0df57f-c65e-434a-9370-1745077ca10a",
   "metadata": {},
   "outputs": [
    {
     "name": "stdout",
     "output_type": "stream",
     "text": [
      "\u001b[1m22/22\u001b[0m \u001b[32m━━━━━━━━━━━━━━━━━━━━\u001b[0m\u001b[37m\u001b[0m \u001b[1m0s\u001b[0m 3ms/step \n",
      "\u001b[1m75/75\u001b[0m \u001b[32m━━━━━━━━━━━━━━━━━━━━\u001b[0m\u001b[37m\u001b[0m \u001b[1m0s\u001b[0m 1ms/step\n",
      "Autoencoder Classification Report:\n",
      "              precision    recall  f1-score   support\n",
      "\n",
      "           0       0.98      0.94      0.96       601\n",
      "           1       0.71      0.86      0.77        98\n",
      "\n",
      "    accuracy                           0.93       699\n",
      "   macro avg       0.84      0.90      0.87       699\n",
      "weighted avg       0.94      0.93      0.93       699\n",
      "\n",
      "ROC-AUC (approx with reconstruction error as score): 0.9335461305986622\n"
     ]
    }
   ],
   "source": [
    "reconstructions = autoencoder.predict(X_test)\n",
    "mse = np.mean(np.power(X_test - reconstructions, 2), axis=1)\n",
    "\n",
    "# Choose threshold as 95th percentile of training MSE\n",
    "reconstructions_train = autoencoder.predict(X_train_normal)\n",
    "mse_train = np.mean(np.power(X_train_normal - reconstructions_train, 2), axis=1)\n",
    "threshold = np.percentile(mse_train, 95)\n",
    "\n",
    "y_pred_ae = (mse > threshold).astype(int)\n",
    "\n",
    "print(\"Autoencoder Classification Report:\")\n",
    "print(classification_report(y_test, y_pred_ae))\n",
    "print(\"ROC-AUC (approx with reconstruction error as score):\", roc_auc_score(y_test, mse))"
   ]
  },
  {
   "cell_type": "code",
   "execution_count": null,
   "id": "0117988f-3d00-4c8d-bfc6-e9b7bc21c612",
   "metadata": {},
   "outputs": [],
   "source": []
  }
 ],
 "metadata": {
  "kernelspec": {
   "display_name": "Python [conda env:base] *",
   "language": "python",
   "name": "conda-base-py"
  },
  "language_info": {
   "codemirror_mode": {
    "name": "ipython",
    "version": 3
   },
   "file_extension": ".py",
   "mimetype": "text/x-python",
   "name": "python",
   "nbconvert_exporter": "python",
   "pygments_lexer": "ipython3",
   "version": "3.12.7"
  }
 },
 "nbformat": 4,
 "nbformat_minor": 5
}
